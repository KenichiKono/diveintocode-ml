{
 "cells": [
  {
   "cell_type": "markdown",
   "metadata": {},
   "source": [
    "# 【問題】栗まんじゅうが太陽系を覆う日\n",
    "\n",
    "「バイバイン」は薬品で、これを振掛けるとその物体は5分ごとに倍に増えるという働きがあります。\n",
    "1個の栗まんじゅうにバイバインを振りかけた場合、太陽系が栗まんじゅうで覆われるのは何分後でしょうか。"
   ]
  },
  {
   "cell_type": "markdown",
   "metadata": {},
   "source": [
    "# 重要な仮定\n",
    "　\n",
    "シンプルに、1, 2, 4, 8, 16,,,と増えていくと仮定する。　米粒のときはこの足し算になる(1, 3, 7, ,,,)がそのようなことはないとする。"
   ]
  },
  {
   "cell_type": "code",
   "execution_count": 19,
   "metadata": {},
   "outputs": [
    {
     "name": "stdout",
     "output_type": "stream",
     "text": [
      "まんじゅう１個の体積は0.05655[m^3]です\n"
     ]
    }
   ],
   "source": [
    "import math\n",
    "\n",
    "volume_manjyu=(math.pi)*(3**2)*2/(10**3)  # 半径3cm、高さ2cmのまんじゅうの体積[m^3]\n",
    "print('まんじゅう１個の体積は{:.5f}[m^3]です'.format(volume_manjyu))"
   ]
  },
  {
   "cell_type": "code",
   "execution_count": 20,
   "metadata": {},
   "outputs": [],
   "source": [
    "time_span=5 #5secで分裂する"
   ]
  },
  {
   "cell_type": "code",
   "execution_count": 40,
   "metadata": {},
   "outputs": [],
   "source": [
    "# グラフにできるようにリスト形式で返す\n",
    "def time_estimation(target_volume, volume_manjyu=0.05665, time_span=5): #target_volumeになるのにどれだけ時間がかかるか？（分）\n",
    "    t=i=0\n",
    "    time_series=[0] #このリストに時間系列を入れる　　　例[0, 5, 10, ,,,.]\n",
    "    time_volume=[volume_manjyu] #このリストに時間系列に沿ったまんじゅうの合計体積を入れる\n",
    "    while target_volume>time_volume[-1]:\n",
    "        t +=time_span\n",
    "        i +=1\n",
    "        time_series.append(t)\n",
    "        time_volume.append(volume_manjyu*2**i)\n",
    "    return time_series, time_volume #リストで返す（グラフにできるように）"
   ]
  },
  {
   "cell_type": "code",
   "execution_count": 41,
   "metadata": {},
   "outputs": [
    {
     "data": {
      "text/plain": [
       "([0, 1, 2, 3, 4, 5], [1, 2, 4, 8, 16, 32])"
      ]
     },
     "execution_count": 41,
     "metadata": {},
     "output_type": "execute_result"
    }
   ],
   "source": [
    "time_estimation(20, 1, 1)#実行結果例"
   ]
  },
  {
   "cell_type": "code",
   "execution_count": 42,
   "metadata": {},
   "outputs": [
    {
     "data": {
      "text/plain": [
       "([0, 2, 4, 6, 8, 10], [1, 2, 4, 8, 16, 32])"
      ]
     },
     "execution_count": 42,
     "metadata": {},
     "output_type": "execute_result"
    }
   ],
   "source": [
    "time_estimation(20, 1, 2)#実行結果例"
   ]
  },
  {
   "cell_type": "code",
   "execution_count": 43,
   "metadata": {},
   "outputs": [
    {
     "data": {
      "text/plain": [
       "([0, 2, 4, 6, 8, 10, 12], [0.5, 1.0, 2.0, 4.0, 8.0, 16.0, 32.0])"
      ]
     },
     "execution_count": 43,
     "metadata": {},
     "output_type": "execute_result"
    }
   ],
   "source": [
    "time_estimation(20, 0.5, 2)#実行結果例"
   ]
  },
  {
   "cell_type": "code",
   "execution_count": 44,
   "metadata": {},
   "outputs": [
    {
     "data": {
      "text/plain": [
       "([0, 2, 4, 6, 8, 10, 12], [0.5, 1.0, 2.0, 4.0, 8.0, 16.0, 32.0])"
      ]
     },
     "execution_count": 44,
     "metadata": {},
     "output_type": "execute_result"
    }
   ],
   "source": [
    "time_estimation(20, 0.5, 2)#実行結果例"
   ]
  },
  {
   "cell_type": "markdown",
   "metadata": {},
   "source": [
    "# 太陽系の大きさ\n",
    "\n",
    "https://utyuu-tanosimu.net/entry252.html\n",
    "\n",
    "太陽系の大きさ 太陽系には現在、水星、金星、地球、火星、木星、土星、天王星、海王星と、8個の惑星が公転しています。 太陽から最も外側を公転している海王星までの距離は4,498,252,900 km（平均公転半径）で、光速でも約4時間もかかるくらい遠いところにあるのです。\n"
   ]
  },
  {
   "cell_type": "code",
   "execution_count": 45,
   "metadata": {},
   "outputs": [
    {
     "name": "stdout",
     "output_type": "stream",
     "text": [
      "太陽系の大きさは3.81e+38[m^3]です\n"
     ]
    }
   ],
   "source": [
    "r_taiyoukei=4498252900*1000#太陽系の半径\n",
    "volume_taiyoukei=4/3*math.pi*(r_taiyoukei**3)\n",
    "print('太陽系の大きさは{:.3g}[m^3]です'.format(volume_taiyoukei))"
   ]
  },
  {
   "cell_type": "code",
   "execution_count": 46,
   "metadata": {},
   "outputs": [],
   "source": [
    "time_series, time_volume = time_estimation(volume_taiyoukei)"
   ]
  },
  {
   "cell_type": "code",
   "execution_count": 47,
   "metadata": {},
   "outputs": [
    {
     "data": {
      "text/plain": [
       "665"
      ]
     },
     "execution_count": 47,
     "metadata": {},
     "output_type": "execute_result"
    }
   ],
   "source": [
    "time_series[-1]"
   ]
  },
  {
   "cell_type": "code",
   "execution_count": 48,
   "metadata": {},
   "outputs": [
    {
     "name": "stdout",
     "output_type": "stream",
     "text": [
      "太陽系をまんじゅうが埋め尽くすのは665分後です\n"
     ]
    }
   ],
   "source": [
    "print('太陽系をまんじゅうが埋め尽くすのは{}分後です'.format(time_series[-1]))"
   ]
  },
  {
   "cell_type": "code",
   "execution_count": 49,
   "metadata": {},
   "outputs": [
    {
     "data": {
      "text/plain": [
       "6.157604644214208e+38"
      ]
     },
     "execution_count": 49,
     "metadata": {},
     "output_type": "execute_result"
    }
   ],
   "source": [
    "volume_manjyu*2**(665/5)#検算"
   ]
  },
  {
   "cell_type": "code",
   "execution_count": 50,
   "metadata": {},
   "outputs": [
    {
     "data": {
      "text/plain": [
       "3.078802322107104e+38"
      ]
     },
     "execution_count": 50,
     "metadata": {},
     "output_type": "execute_result"
    }
   ],
   "source": [
    "volume_manjyu*2**(660/5)#検算"
   ]
  },
  {
   "cell_type": "markdown",
   "metadata": {},
   "source": [
    "## 東京ドームの体積\n",
    "体積：ドーム部分の単純体積である124万m3を用いる。 "
   ]
  },
  {
   "cell_type": "code",
   "execution_count": 51,
   "metadata": {},
   "outputs": [],
   "source": [
    "volume_tokyo_dome=124*10000"
   ]
  },
  {
   "cell_type": "code",
   "execution_count": 52,
   "metadata": {},
   "outputs": [],
   "source": [
    "time_series_dome, time_volume_dome = time_estimation(volume_tokyo_dome)"
   ]
  },
  {
   "cell_type": "code",
   "execution_count": 53,
   "metadata": {},
   "outputs": [
    {
     "name": "stdout",
     "output_type": "stream",
     "text": [
      "東京ドームをまんじゅうが埋め尽くすのは125分後です\n"
     ]
    }
   ],
   "source": [
    "print('東京ドームをまんじゅうが埋め尽くすのは{}分後です'.format(time_series_dome[-1]))"
   ]
  },
  {
   "cell_type": "code",
   "execution_count": 54,
   "metadata": {},
   "outputs": [],
   "source": [
    "import matplotlib.pyplot as plt\n",
    "%matplotlib inline"
   ]
  },
  {
   "cell_type": "code",
   "execution_count": 60,
   "metadata": {},
   "outputs": [
    {
     "data": {
      "text/plain": [
       "Text(0, 0.5, 'volume[m^3]')"
      ]
     },
     "execution_count": 60,
     "metadata": {},
     "output_type": "execute_result"
    },
    {
     "data": {
      "image/png": "[encoded data removed]",
      "text/plain": [
       "<Figure size 432x288 with 1 Axes>"
      ]
     },
     "metadata": {
      "needs_background": "light"
     },
     "output_type": "display_data"
    }
   ],
   "source": [
    "#太陽系を埋め尽くす経過のグラフ\n",
    "plt.scatter(time_series, time_volume)\n",
    "plt.xlabel('min')\n",
    "plt.ylabel('volume[m^3]')"
   ]
  },
  {
   "cell_type": "markdown",
   "metadata": {},
   "source": [
    "# 考察"
   ]
  },
  {
   "cell_type": "code",
   "execution_count": 63,
   "metadata": {},
   "outputs": [
    {
     "data": {
      "text/plain": [
       "[0, 5, 10, 15, 20, 25, 30, 35, 40, 45, 50]"
      ]
     },
     "execution_count": 63,
     "metadata": {},
     "output_type": "execute_result"
    }
   ],
   "source": [
    "#ステップ数 n を求めて以下のようにするほうが、グラフ作成の時間はかかるが、分かりやすい\n",
    "n=10\n",
    "\n",
    "t=[i*5 for i in range(n+1)]\n",
    "t"
   ]
  },
  {
   "cell_type": "code",
   "execution_count": 68,
   "metadata": {},
   "outputs": [
    {
     "data": {
      "text/plain": [
       "[0.05654866776461628,\n",
       " 0.11309733552923255,\n",
       " 0.2261946710584651,\n",
       " 0.4523893421169302,\n",
       " 0.9047786842338604,\n",
       " 1.8095573684677209,\n",
       " 3.6191147369354417,\n",
       " 7.2382294738708834,\n",
       " 14.476458947741767,\n",
       " 28.952917895483534,\n",
       " 57.90583579096707]"
      ]
     },
     "execution_count": 68,
     "metadata": {},
     "output_type": "execute_result"
    }
   ],
   "source": [
    "v=[volume_manjyu*2**i for i in range(n+1)]\n",
    "v"
   ]
  },
  {
   "cell_type": "code",
   "execution_count": null,
   "metadata": {},
   "outputs": [],
   "source": []
  }
 ],
 "metadata": {
  "kernelspec": {
   "display_name": "Python 3",
   "language": "python",
   "name": "python3"
  },
  "language_info": {
   "codemirror_mode": {
    "name": "ipython",
    "version": 3
   },
   "file_extension": ".py",
   "mimetype": "text/x-python",
   "name": "python",
   "nbconvert_exporter": "python",
   "pygments_lexer": "ipython3",
   "version": "3.7.1"
  }
 },
 "nbformat": 4,
 "nbformat_minor": 2
}
