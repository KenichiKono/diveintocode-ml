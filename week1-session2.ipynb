{
 "cells": [
  {
   "cell_type": "markdown",
   "metadata": {},
   "source": [
    "# 【課題】富士山を超える最小の折る回数\n",
    "\n",
    "厚さが「富士山(3776m)」を超えるのは何回紙を折った時か計算するプログラムを作成してください。"
   ]
  },
  {
   "cell_type": "code",
   "execution_count": 9,
   "metadata": {},
   "outputs": [
    {
     "name": "stdout",
     "output_type": "stream",
     "text": [
      "富士山(3776m)を超えるのは26回折ったときです\n"
     ]
    }
   ],
   "source": [
    "thickness=0.00008\n",
    "fold_number=0\n",
    "mount_fuji=3776\n",
    "\n",
    "while True:\n",
    "    fold_number += 1\n",
    "    fold_thickness = thickness*2**fold_number\n",
    "    if fold_thickness > mount_fuji:\n",
    "        break\n",
    "\n",
    "print('富士山({}m)を超えるのは{}回折ったときです'.format(mount_fuji, fold_number))"
   ]
  },
  {
   "cell_type": "code",
   "execution_count": 10,
   "metadata": {},
   "outputs": [
    {
     "data": {
      "text/plain": [
       "5368.70912"
      ]
     },
     "execution_count": 10,
     "metadata": {},
     "output_type": "execute_result"
    }
   ],
   "source": [
    "thickness*2**26　#検算"
   ]
  },
  {
   "cell_type": "markdown",
   "metadata": {},
   "source": [
    "# 【課題】任意の厚さに対応した関数を作成\n",
    "  \n",
    " 距離を入力すると、何回折った時に超えるかを出力する関数を作成してください。引数として、折る前の厚さ \n",
    "t0も設定できるようにしましょう。\n",
    "\n",
    "この関数を利用して、「最も近い太陽以外の恒星」に到達するには紙を何回折る必要があるか計算してください。「最も近い太陽以外の恒星」の距離は調査してください。\n",
    " "
   ]
  },
  {
   "cell_type": "code",
   "execution_count": 11,
   "metadata": {},
   "outputs": [],
   "source": [
    "def fold_number_function(length, t0=0.00008):  #t0 = 折る前の長さ\n",
    "    thickness=t0\n",
    "    fold_number=0\n",
    "\n",
    "    while True:\n",
    "        fold_number += 1\n",
    "        fold_thickness = thickness*2**fold_number\n",
    "        if fold_thickness > length:\n",
    "            break\n",
    "    return fold_number"
   ]
  },
  {
   "cell_type": "code",
   "execution_count": 15,
   "metadata": {},
   "outputs": [
    {
     "data": {
      "text/plain": [
       "26"
      ]
     },
     "execution_count": 15,
     "metadata": {},
     "output_type": "execute_result"
    }
   ],
   "source": [
    "fold_number_function(3776)  #検算"
   ]
  },
  {
   "cell_type": "code",
   "execution_count": 26,
   "metadata": {},
   "outputs": [],
   "source": [
    "# 最も近い太陽以外の恒星\tプロキシマ・ケンタウリ\t4.243光年\n",
    "\n",
    "L=4.243 * 9460730472580800"
   ]
  },
  {
   "cell_type": "code",
   "execution_count": 27,
   "metadata": {},
   "outputs": [
    {
     "data": {
      "text/plain": [
       "69"
      ]
     },
     "execution_count": 27,
     "metadata": {},
     "output_type": "execute_result"
    }
   ],
   "source": [
    "thickness=0.00008\n",
    "fold_number_function(L, thickness)"
   ]
  },
  {
   "cell_type": "code",
   "execution_count": 28,
   "metadata": {},
   "outputs": [
    {
     "name": "stdout",
     "output_type": "stream",
     "text": [
      "最も近い太陽以外の恒星までの距離は4.014187939516034e+16mであり、紙の厚さが8e-05mだと、69回折ると超える\n"
     ]
    }
   ],
   "source": [
    "print('最も近い太陽以外の恒星までの距離は{}mであり、紙の厚さが{}mだと、{}回折ると超える'.format(L, thickness, fold_number_function(L, thickness)))"
   ]
  },
  {
   "cell_type": "markdown",
   "metadata": {},
   "source": [
    "# 【課題】必要な紙の長さ\n",
    " \n",
    " 実際のところ身近にある紙は43回はおろか10回も折れません。しかし、大きな紙ほどたくさん折ることができ、トイレットペーパーのような長い紙を一方向に折ることを考えた時の折れる回数を求める公式が存在します。\n",
    "\n",
    "厚さ t0の紙をn回折るために必要な紙の長さLは以下の公式で求まります。\n",
    "\n",
    "$$L=\\pi*t_0/6*(2^n+4)(2^n-1)\n",
    "$$\n",
    "\n",
    "この公式を利用して、実際に紙を折り任意の厚さに到達するために必要な紙の長さを求める関数を作成してください。\n",
    "\n",
    "そしてこれを使って「月」「富士山」「最も近い太陽以外の恒星」に届くために必要な紙の長さを求めてください。"
   ]
  },
  {
   "cell_type": "code",
   "execution_count": 39,
   "metadata": {},
   "outputs": [],
   "source": [
    "import math\n",
    "\n",
    "def length_paper(fold_number, t0=0.00008):\n",
    "    L=(math.pi)*t0/6*(2**fold_number+4)*(2**fold_number-1)\n",
    "    return L"
   ]
  },
  {
   "cell_type": "code",
   "execution_count": 50,
   "metadata": {},
   "outputs": [
    {
     "name": "stdout",
     "output_type": "stream",
     "text": [
      "富士山(3776m)には、26回折って、188646348487.24017mの長さが必要です\n"
     ]
    }
   ],
   "source": [
    "print('富士山({}m)には、{}回折って、{}mの長さが必要です'.format(mount_fuji, fold_number_function(mount_fuji), length_paper(fold_number_function(mount_fuji))))"
   ]
  },
  {
   "cell_type": "code",
   "execution_count": 52,
   "metadata": {},
   "outputs": [
    {
     "name": "stdout",
     "output_type": "stream",
     "text": [
      "月(384400000m)には43回折って、3.240919444170781e+21mの長さが必要です\n"
     ]
    }
   ],
   "source": [
    "L_moon=384400*1000\n",
    "print('月({}m)には{}回折って、{}mの長さが必要です'.format(L_moon, fold_number_function(L_moon), length_paper(fold_number_function(L_moon))))"
   ]
  },
  {
   "cell_type": "code",
   "execution_count": 53,
   "metadata": {},
   "outputs": [
    {
     "name": "stdout",
     "output_type": "stream",
     "text": [
      "最も近い太陽以外の恒星(4.014187939516034e+16m)には69回折って、1.4595803601100348e+37mの長さが必要です\n"
     ]
    }
   ],
   "source": [
    "print('最も近い太陽以外の恒星({}m)には{}回折って、{}mの長さが必要です'.format(L, fold_number_function(L), length_paper(fold_number_function(L))))"
   ]
  },
  {
   "cell_type": "code",
   "execution_count": 56,
   "metadata": {},
   "outputs": [],
   "source": [
    "Length_graph=[length_paper(i) for i in range(0,12)]"
   ]
  },
  {
   "cell_type": "code",
   "execution_count": 57,
   "metadata": {},
   "outputs": [
    {
     "data": {
      "text/plain": [
       "[<matplotlib.lines.Line2D at 0x12071e0b8>]"
      ]
     },
     "execution_count": 57,
     "metadata": {},
     "output_type": "execute_result"
    },
    {
     "data": {
      "image/png": "[encoded data removed]",
      "text/plain": [
       "<Figure size 432x288 with 1 Axes>"
      ]
     },
     "metadata": {
      "needs_background": "light"
     },
     "output_type": "display_data"
    }
   ],
   "source": [
    "import matplotlib.pyplot as plt\n",
    "%matplotlib inline\n",
    "\n",
    "#必要な長さを図示（x: n回, y: 長さ） 　関数の図示\n",
    "\n",
    "plt.plot(Length_graph)"
   ]
  },
  {
   "cell_type": "code",
   "execution_count": 85,
   "metadata": {},
   "outputs": [],
   "source": [
    "n=20\n",
    "L1=[1000*i for i in range(n)]\n",
    "#L1"
   ]
  },
  {
   "cell_type": "code",
   "execution_count": 86,
   "metadata": {},
   "outputs": [],
   "source": [
    "L_x=[fold_number_function(L1[i]) for i in range(n)]\n",
    "L_y=[length_paper(fold_number_function(L1[i])) for i in range(n)]"
   ]
  },
  {
   "cell_type": "code",
   "execution_count": 88,
   "metadata": {},
   "outputs": [
    {
     "data": {
      "text/plain": [
       "<matplotlib.collections.PathCollection at 0x120bb0a58>"
      ]
     },
     "execution_count": 88,
     "metadata": {},
     "output_type": "execute_result"
    },
    {
     "data": {
      "image/png": "[encoded data removed]",
      "text/plain": [
       "<Figure size 432x288 with 1 Axes>"
      ]
     },
     "metadata": {
      "needs_background": "light"
     },
     "output_type": "display_data"
    }
   ],
   "source": [
    "ｐｌｔ.scatter(L1, L_y) #x: 到達すべき距離、 y: 折り曲げるのに必要な長さ"
   ]
  },
  {
   "cell_type": "code",
   "execution_count": null,
   "metadata": {},
   "outputs": [],
   "source": []
  },
  {
   "cell_type": "code",
   "execution_count": null,
   "metadata": {},
   "outputs": [],
   "source": []
  }
 ],
 "metadata": {
  "kernelspec": {
   "display_name": "Python 3",
   "language": "python",
   "name": "python3"
  },
  "language_info": {
   "codemirror_mode": {
    "name": "ipython",
    "version": 3
   },
   "file_extension": ".py",
   "mimetype": "text/x-python",
   "name": "python",
   "nbconvert_exporter": "python",
   "pygments_lexer": "ipython3",
   "version": "3.7.1"
  }
 },
 "nbformat": 4,
 "nbformat_minor": 2
}
