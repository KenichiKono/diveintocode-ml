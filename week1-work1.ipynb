{
 "cells": [
  {
   "cell_type": "markdown",
   "metadata": {},
   "source": [
    "# week1 授業前課題１"
   ]
  },
  {
   "cell_type": "code",
   "execution_count": 97,
   "metadata": {},
   "outputs": [
    {
     "name": "stdout",
     "output_type": "stream",
     "text": [
      "厚さ： 0.00016メートル\n"
     ]
    }
   ],
   "source": [
    "#紙を1回折った時の厚さを計算するコード\n",
    "\n",
    "thickness = 0.00008\n",
    "\n",
    "folded_thickness = thickness*2\n",
    "\n",
    "print(\"厚さ： {}メートル\".format(folded_thickness))"
   ]
  },
  {
   "cell_type": "code",
   "execution_count": 98,
   "metadata": {},
   "outputs": [],
   "source": [
    "# import time\n",
    "# start = time.perf_counter()\n",
    "\n",
    "# thickness = 0.00008\n",
    "# folded_thickness = thickness*(2**43)\n",
    "# print(\"厚さ： {:.3f}万キロメートル\".format(folded_thickness/1000/10000))\n",
    "\n",
    "# elapsed_time = time.perf_counter()- start\n",
    "# print(\"time : {}[s]\".format(elapsed_time))"
   ]
  },
  {
   "cell_type": "code",
   "execution_count": 103,
   "metadata": {},
   "outputs": [
    {
     "name": "stdout",
     "output_type": "stream",
     "text": [
      "厚さ： 70.369万キロメートル\n",
      "time : 0.154571846996987[s]\n"
     ]
    }
   ],
   "source": [
    "# べき乗を使用\n",
    "import time\n",
    "start = time.perf_counter()\n",
    "\n",
    "for j in range(1000000): #スピード測定のため繰り返す\n",
    "    thickness = 0.00008\n",
    "    folded_thickness = thickness*(2**43)\n",
    "print(\"厚さ： {:.3f}万キロメートル\".format(folded_thickness/1000/10000))\n",
    "\n",
    "elapsed_time = time.perf_counter()- start\n",
    "print(\"time : {}[s]\".format(elapsed_time))"
   ]
  },
  {
   "cell_type": "markdown",
   "metadata": {},
   "source": [
    "## 月と地球の距離  \n",
    "384,400 km　=38万キロメートル"
   ]
  },
  {
   "cell_type": "code",
   "execution_count": 104,
   "metadata": {},
   "outputs": [
    {
     "name": "stdout",
     "output_type": "stream",
     "text": [
      "厚さ： 70.37万キロメートル\n",
      "time : 3.8111611759995867[s]\n"
     ]
    }
   ],
   "source": [
    "import time\n",
    "start = time.perf_counter()\n",
    "\n",
    "\n",
    "for j in range(1000000):\n",
    "    folded_thickness_2=2\n",
    "    for i in range(42):\n",
    "        folded_thickness_2 *=2\n",
    "print(\"厚さ： {:.2f}万キロメートル\".format(folded_thickness_2*thickness/1000/10000))\n",
    "\n",
    "\n",
    "elapsed_time = time.perf_counter()- start\n",
    "print(\"time : {}[s]\".format(elapsed_time))"
   ]
  },
  {
   "cell_type": "code",
   "execution_count": 105,
   "metadata": {},
   "outputs": [
    {
     "data": {
      "text/plain": [
       "24.74025974025974"
      ]
     },
     "execution_count": 105,
     "metadata": {},
     "output_type": "execute_result"
    }
   ],
   "source": [
    "3.81/0.154"
   ]
  },
  {
   "cell_type": "markdown",
   "metadata": {},
   "source": [
    "## 計算速度\n",
    " \n",
    "2^43の方がforよりも約25倍早い（forの繰り返しはそれでまた時間がとられるので正確ではない？）  \n",
    "→ あとで%%timeitで計算"
   ]
  },
  {
   "cell_type": "code",
   "execution_count": 106,
   "metadata": {},
   "outputs": [
    {
     "name": "stdout",
     "output_type": "stream",
     "text": [
      "703687441.77664\n",
      "厚さ： 70.37万キロメートル\n",
      "time : 0.0006226089972187765[s]\n"
     ]
    }
   ],
   "source": [
    "import time\n",
    "start = time.perf_counter()\n",
    "\n",
    "numbers=[thickness]\n",
    "\n",
    "folded_thickness_2=thickness\n",
    "for i in range(43):\n",
    "    folded_thickness_2 *=2\n",
    "    numbers.append(folded_thickness_2)\n",
    "print(folded_thickness_2)\n",
    "print(\"厚さ： {:.2f}万キロメートル\".format(folded_thickness_2/1000/10000))\n",
    "\n",
    "\n",
    "elapsed_time = time.perf_counter() - start\n",
    "print(\"time : {}[s]\".format(elapsed_time))"
   ]
  },
  {
   "cell_type": "code",
   "execution_count": 107,
   "metadata": {},
   "outputs": [
    {
     "data": {
      "text/plain": [
       "44"
      ]
     },
     "execution_count": 107,
     "metadata": {},
     "output_type": "execute_result"
    }
   ],
   "source": [
    "len(numbers)"
   ]
  },
  {
   "cell_type": "code",
   "execution_count": 108,
   "metadata": {},
   "outputs": [
    {
     "data": {
      "text/plain": [
       "[<matplotlib.lines.Line2D at 0x120b1d908>]"
      ]
     },
     "execution_count": 108,
     "metadata": {},
     "output_type": "execute_result"
    },
    {
     "data": {
      "image/png": "[encoded data removed]",
      "text/plain": [
       "<Figure size 432x288 with 1 Axes>"
      ]
     },
     "metadata": {
      "needs_background": "light"
     },
     "output_type": "display_data"
    }
   ],
   "source": [
    "import matplotlib.pyplot as plt\n",
    "%matplotlib inline\n",
    "\n",
    "plt.title(\"thickness of folded paper\")\n",
    "plt.xlabel(\"number of folds\")\n",
    "plt.ylabel(\"thickness[m]\")\n",
    "plt.plot(numbers) "
   ]
  },
  {
   "cell_type": "markdown",
   "metadata": {},
   "source": [
    "## 考察\n",
    "指数関数的に増加している"
   ]
  },
  {
   "cell_type": "code",
   "execution_count": 109,
   "metadata": {},
   "outputs": [
    {
     "data": {
      "text/plain": [
       "[<matplotlib.lines.Line2D at 0x120be37b8>]"
      ]
     },
     "execution_count": 109,
     "metadata": {},
     "output_type": "execute_result"
    },
    {
     "data": {
      "image/png": "[encoded data removed]",
      "text/plain": [
       "<Figure size 432x288 with 1 Axes>"
      ]
     },
     "metadata": {
      "needs_background": "light"
     },
     "output_type": "display_data"
    }
   ],
   "source": [
    "plt.plot(numbers, color='red') "
   ]
  },
  {
   "cell_type": "code",
   "execution_count": 110,
   "metadata": {},
   "outputs": [
    {
     "data": {
      "text/plain": [
       "[<matplotlib.lines.Line2D at 0x120c692b0>]"
      ]
     },
     "execution_count": 110,
     "metadata": {},
     "output_type": "execute_result"
    },
    {
     "data": {
      "image/png": "[encoded data removed]",
      "text/plain": [
       "<Figure size 432x288 with 1 Axes>"
      ]
     },
     "metadata": {
      "needs_background": "light"
     },
     "output_type": "display_data"
    }
   ],
   "source": [
    "plt.tick_params(labelsize=20)\n",
    "plt.plot(numbers, 'bo') "
   ]
  },
  {
   "cell_type": "code",
   "execution_count": 111,
   "metadata": {},
   "outputs": [
    {
     "data": {
      "text/plain": [
       "[<matplotlib.lines.Line2D at 0x120d7b6d8>]"
      ]
     },
     "execution_count": 111,
     "metadata": {},
     "output_type": "execute_result"
    },
    {
     "data": {
      "image/png": "[encoded data removed]",
      "text/plain": [
       "<Figure size 432x288 with 1 Axes>"
      ]
     },
     "metadata": {
      "needs_background": "light"
     },
     "output_type": "display_data"
    }
   ],
   "source": [
    "plt.plot(numbers, color='red', linewidth=10, ls='-.') "
   ]
  },
  {
   "cell_type": "markdown",
   "metadata": {},
   "source": [
    "# 何故pythonか\n",
    "- 多くのテック系大企業のサービスを支えているのがPythonだと考えれば、信頼性も理解しやすい\n",
    "- Pythonのコードの読みやすさとシンプル性\n",
    "- Pythonは初心者に易しい言語\n",
    "- 非常に多くの機械学習向けのライブラリやフレームワークがPythonには存在  \n",
    "  ライブラリが整っているおかげで効率よく学習でき、効率よく開発ができます。\n",
    "  \n",
    "- pythonはスクリプト言語と呼ばれる、計算に非常にマシンパワーが必要でかつ、低速なプログラミング言語\n",
    "- ライブラリもJavaやC++は揃っています。JavaでDeep learningをするなら、Deeplearning4jがあり、機械学習系のライブラリはJava machine learning Libraryがあります。C++の機械学習ライブラリにはDlibというものがあります\n",
    "\n",
    "Rは？　　\n",
    "1. 最小限のコードでデータを解析するための工夫\n",
    "2. 大学や研究機関などで頻繁に使われる言語\n",
    "3. 基礎的な統計モデルを動かす場合はPythonよりもR言語の方が比較的、少ないコードで実行することが可能\n"
   ]
  },
  {
   "cell_type": "code",
   "execution_count": 9,
   "metadata": {},
   "outputs": [
    {
     "name": "stdout",
     "output_type": "stream",
     "text": [
      "厚さ： 70.37万キロメートル\n",
      "time : 7.8323259353637695[s]\n"
     ]
    }
   ],
   "source": [
    "import time\n",
    "start = time.time()\n",
    "\n",
    "\n",
    "for j in range(1000000):\n",
    "    numbers=[thickness]\n",
    "\n",
    "    folded_thickness_2=thickness\n",
    "    for i in range(43):\n",
    "        folded_thickness_2 *=2\n",
    "        numbers.append(folded_thickness_2)\n",
    "    #print(folded_thickness_2)\n",
    "\n",
    "\n",
    "print(\"厚さ： {:.2f}万キロメートル\".format(numbers[43]/1000/10000))\n",
    "\n",
    "\n",
    "elapsed_time = time.time() - start\n",
    "print(\"time : {}[s]\".format(elapsed_time))"
   ]
  },
  {
   "cell_type": "code",
   "execution_count": 16,
   "metadata": {},
   "outputs": [
    {
     "name": "stdout",
     "output_type": "stream",
     "text": [
      "厚さ： 35.18万キロメートル\n",
      "time : 20.547005891799927[s]\n"
     ]
    }
   ],
   "source": [
    "import time\n",
    "start = time.time()\n",
    "\n",
    "\n",
    "for j in range(1000000):\n",
    "    numbers=[thickness*(2**i) for i in range(43)]\n",
    "\n",
    "#     folded_thickness_2=thickness\n",
    "#     for i in range(43):\n",
    "#         folded_thickness_2 *=2\n",
    "#         numbers.append(folded_thickness_2)\n",
    "#     #print(folded_thickness_2)\n",
    "\n",
    "\n",
    "print(\"厚さ： {:.2f}万キロメートル\".format(numbers[42]/1000/10000))\n",
    "\n",
    "\n",
    "elapsed_time = time.time() - start\n",
    "print(\"time : {}[s]\".format(elapsed_time))"
   ]
  },
  {
   "cell_type": "code",
   "execution_count": 14,
   "metadata": {},
   "outputs": [],
   "source": [
    "for j in range(3):\n",
    "    numbers=[thickness*(2**i) for i in range(43)]"
   ]
  },
  {
   "cell_type": "markdown",
   "metadata": {},
   "source": [
    "# %%timeitで速度計算"
   ]
  },
  {
   "cell_type": "code",
   "execution_count": 17,
   "metadata": {},
   "outputs": [
    {
     "name": "stdout",
     "output_type": "stream",
     "text": [
      "16 µs ± 1.16 µs per loop (mean ± std. dev. of 7 runs, 100000 loops each)\n"
     ]
    }
   ],
   "source": [
    "%%timeit\n",
    "numbers=[thickness*(2**i) for i in range(43)]"
   ]
  },
  {
   "cell_type": "code",
   "execution_count": 18,
   "metadata": {},
   "outputs": [
    {
     "name": "stdout",
     "output_type": "stream",
     "text": [
      "4.24 µs ± 311 ns per loop (mean ± std. dev. of 7 runs, 100000 loops each)\n"
     ]
    }
   ],
   "source": [
    "%%timeit\n",
    "numbers=[thickness]\n",
    "\n",
    "folded_thickness_2=thickness\n",
    "for i in range(43):\n",
    "    folded_thickness_2 *=2\n",
    "    numbers.append(folded_thickness_2)\n",
    "#print(folded_thickness_2)"
   ]
  },
  {
   "cell_type": "code",
   "execution_count": 19,
   "metadata": {},
   "outputs": [
    {
     "name": "stdout",
     "output_type": "stream",
     "text": [
      "61.3 ns ± 3.36 ns per loop (mean ± std. dev. of 7 runs, 10000000 loops each)\n"
     ]
    }
   ],
   "source": [
    "%%timeit\n",
    "thickness = 0.00008\n",
    "folded_thickness = thickness*(2**43)"
   ]
  },
  {
   "cell_type": "code",
   "execution_count": 20,
   "metadata": {},
   "outputs": [
    {
     "name": "stdout",
     "output_type": "stream",
     "text": [
      "54.9 ns ± 0.602 ns per loop (mean ± std. dev. of 7 runs, 10000000 loops each)\n"
     ]
    }
   ],
   "source": [
    "%%timeit\n",
    "thickness = 0.00008\n",
    "folded_thickness = thickness*(2**43)"
   ]
  },
  {
   "cell_type": "code",
   "execution_count": 28,
   "metadata": {},
   "outputs": [
    {
     "name": "stdout",
     "output_type": "stream",
     "text": [
      "57.8 ns ± 2.48 ns per loop (mean ± std. dev. of 7 runs, 10000000 loops each)\n"
     ]
    }
   ],
   "source": [
    "%%timeit\n",
    "thickness = 0.00008\n",
    "folded_thickness = thickness*(2**43)"
   ]
  },
  {
   "cell_type": "code",
   "execution_count": 30,
   "metadata": {},
   "outputs": [
    {
     "name": "stdout",
     "output_type": "stream",
     "text": [
      "1.84 µs ± 72.2 ns per loop (mean ± std. dev. of 7 runs, 100000 loops each)\n"
     ]
    }
   ],
   "source": [
    "%%timeit\n",
    "folded_thickness_2=thickness\n",
    "for i in range(42):\n",
    "    folded_thickness_2 *=2"
   ]
  },
  {
   "cell_type": "code",
   "execution_count": null,
   "metadata": {},
   "outputs": [],
   "source": []
  }
 ],
 "metadata": {
  "kernelspec": {
   "display_name": "Python 3",
   "language": "python",
   "name": "python3"
  },
  "language_info": {
   "codemirror_mode": {
    "name": "ipython",
    "version": 3
   },
   "file_extension": ".py",
   "mimetype": "text/x-python",
   "name": "python",
   "nbconvert_exporter": "python",
   "pygments_lexer": "ipython3",
   "version": "3.7.1"
  }
 },
 "nbformat": 4,
 "nbformat_minor": 2
}
