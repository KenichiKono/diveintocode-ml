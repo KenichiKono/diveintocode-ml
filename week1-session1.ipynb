{
 "cells": [
  {
   "cell_type": "markdown",
   "metadata": {},
   "source": [
    "# 曽呂利新左衛門問題"
   ]
  },
  {
   "cell_type": "markdown",
   "metadata": {},
   "source": [
    "## 問題１"
   ]
  },
  {
   "cell_type": "code",
   "execution_count": 91,
   "metadata": {},
   "outputs": [],
   "source": [
    "Start_Grain=1\n",
    "DAY=100\n",
    "n_grain=[Start_Grain*2**i for i in range(DAY)]\n",
    "n_grain_total=[Start_Grain]\n",
    "#n_grain_total.append((n_grain_total[i]+n_grain[i+1]) for i in range(0, DAY))\n",
    "\n",
    "for i in range(DAY-1):\n",
    "    n_grain_total.append(n_grain_total[i]+n_grain[i+1])"
   ]
  },
  {
   "cell_type": "code",
   "execution_count": 92,
   "metadata": {},
   "outputs": [
    {
     "name": "stdout",
     "output_type": "stream",
     "text": [
      "[1, 2, 4, 8, 16, 32, 64, 128, 256, 512]\n",
      "[1, 3, 7, 15, 31, 63, 127, 255, 511, 1023]\n"
     ]
    }
   ],
   "source": [
    "#確認\n",
    "\n",
    "#len(n_grain)\n",
    "print(n_grain[:10])\n",
    "\n",
    "#len(n_grain_total)\n",
    "print(n_grain_total[:10])\n",
    "#n_grain[100]"
   ]
  },
  {
   "cell_type": "code",
   "execution_count": 93,
   "metadata": {},
   "outputs": [],
   "source": [
    "#　最初に0を入れる（DAY0を設定する。そうしないと[0]がDAY1になる\n",
    "\n",
    "n_grain.insert(0,0)\n",
    "n_grain_total.insert(0,0)"
   ]
  },
  {
   "cell_type": "code",
   "execution_count": 94,
   "metadata": {},
   "outputs": [
    {
     "name": "stdout",
     "output_type": "stream",
     "text": [
      "[0, 1, 2, 4, 8, 16, 32, 64, 128, 256]\n",
      "[0, 1, 3, 7, 15, 31, 63, 127, 255, 511]\n"
     ]
    }
   ],
   "source": [
    "#確認\n",
    "print(n_grain[:10])\n",
    "print(n_grain_total[:10])"
   ]
  },
  {
   "cell_type": "code",
   "execution_count": 95,
   "metadata": {},
   "outputs": [
    {
     "data": {
      "text/plain": [
       "<matplotlib.legend.Legend at 0x12082dc88>"
      ]
     },
     "execution_count": 95,
     "metadata": {},
     "output_type": "execute_result"
    },
    {
     "data": {
      "image/png": "[encoded data removed]",
      "text/plain": [
       "<Figure size 432x288 with 1 Axes>"
      ]
     },
     "metadata": {
      "needs_background": "light"
     },
     "output_type": "display_data"
    }
   ],
   "source": [
    "import matplotlib.pyplot as plt\n",
    "%matplotlib inline\n",
    "\n",
    "plt.xlabel('DAY')\n",
    "plt.ylabel('Number')\n",
    "\n",
    "\n",
    "plt.plot(n_grain, label=\"number@DAY\")\n",
    "plt.plot(n_grain_total, label=\"total@DAY\")\n",
    "\n",
    "plt.legend()\n",
    "\n",
    "\n",
    "\n",
    "\n"
   ]
  },
  {
   "cell_type": "code",
   "execution_count": 96,
   "metadata": {},
   "outputs": [],
   "source": [
    "def compute_sorori_shinzaemon(day=100): #デフォルト100\n",
    "\n",
    "    list_n_grains = [1] #DAY1\n",
    "    list_total_grains = [1] #DAY1\n",
    "    \n",
    "    for i in range(day-1):\n",
    "        list_n_grains.append(list_n_grains[i]*2)\n",
    "        list_total_grains.append(list_total_grains[i]+list_n_grains[i+1])\n",
    "    pass\n",
    "\n",
    "    return list_n_grains, list_total_grains\n",
    "\n"
   ]
  },
  {
   "cell_type": "code",
   "execution_count": 97,
   "metadata": {},
   "outputs": [
    {
     "name": "stdout",
     "output_type": "stream",
     "text": [
      "[1, 2, 4, 8, 16, 32, 64, 128, 256, 512]\n",
      "[1, 3, 7, 15, 31, 63, 127, 255, 511, 1023]\n"
     ]
    }
   ],
   "source": [
    "list_n_grains, list_total_grains = compute_sorori_shinzaemon(day=10)\n",
    "print(list_n_grains)\n",
    "print(list_total_grains)"
   ]
  },
  {
   "cell_type": "code",
   "execution_count": 98,
   "metadata": {},
   "outputs": [
    {
     "data": {
      "text/plain": [
       "([1, 2, 4, 8, 16, 32, 64, 128, 256, 512, 1024, 2048],\n",
       " [1, 3, 7, 15, 31, 63, 127, 255, 511, 1023, 2047, 4095])"
      ]
     },
     "execution_count": 98,
     "metadata": {},
     "output_type": "execute_result"
    }
   ],
   "source": [
    "compute_sorori_shinzaemon(12)"
   ]
  },
  {
   "cell_type": "markdown",
   "metadata": {},
   "source": [
    "この米があれば何人が何日生活できるか計算する関数を作成してください。機械学習コースを受講する期間に貰える米粒で、受講している人数であれば、何日間生活できるかを出力してみましょう。\n",
    "\n",
    "関数の最低限の入力は米粒の数(int)と人数(int)、出力は生活できる日数(int)です。関数名やコメントなどは分かりやすく考えて作成してください。\n",
    "\n",
    "ここでは1日に必要な米粒の数は提示しません。自分なりに調べて、計算式に落とし込んでください。どう調べ、何を根拠にしたかもコメントを残しておいてください。"
   ]
  },
  {
   "cell_type": "markdown",
   "metadata": {},
   "source": [
    "米（精白米）100ｇで360kcalです。\n",
    "\n",
    "お米1000粒20ｇとすると　　\n",
    "お米１粒で、360kcal÷5÷1000＝0.072kcal＝72cal　　\n",
    "1calは、1粒÷72cal＝約0.014粒　　\n",
    "かな。\n",
    "\n",
    "必要カロリーは男女平均で1300Kcal"
   ]
  },
  {
   "cell_type": "code",
   "execution_count": 99,
   "metadata": {},
   "outputs": [
    {
     "data": {
      "text/plain": [
       "18055.555555555555"
      ]
     },
     "execution_count": 99,
     "metadata": {},
     "output_type": "execute_result"
    }
   ],
   "source": [
    "a=1300*1000*(1/72)\n",
    "a #1人あたりの1日の必要コメ数"
   ]
  },
  {
   "cell_type": "code",
   "execution_count": 100,
   "metadata": {},
   "outputs": [],
   "source": [
    "def survive(rice_number=1, people=2, rice_base_number=18055):  #defaultの数値は必ず必要？（エラーでる）\n",
    "    day=rice_number/rice_base_number/people\n",
    "    return int(day)"
   ]
  },
  {
   "cell_type": "code",
   "execution_count": 103,
   "metadata": {},
   "outputs": [
    {
     "name": "stdout",
     "output_type": "stream",
     "text": [
      "24日目には合計16777215個のお米になります\n",
      "１日1人18055粒必要との前提で、5人であれば、185日間生活できます（翌日に足りなくなる）\n"
     ]
    }
   ],
   "source": [
    "# \n",
    "\n",
    "day=24\n",
    "b=compute_sorori_shinzaemon(day)[1][day-1] #day=24日目での合計の米数\n",
    "print(\"{}日目には合計{}個のお米になります\".format(day, b))\n",
    " \n",
    "people=5\n",
    "rice_base_number=18055\n",
    "    \n",
    "print(\"１日1人{}粒必要との前提で、{}人であれば、{}日間生活できます（翌日に足りなくなる）\".format(rice_base_number, people, survive(b, people, rice_base_number))) "
   ]
  },
  {
   "cell_type": "code",
   "execution_count": null,
   "metadata": {},
   "outputs": [],
   "source": []
  },
  {
   "cell_type": "code",
   "execution_count": null,
   "metadata": {},
   "outputs": [],
   "source": []
  }
 ],
 "metadata": {
  "kernelspec": {
   "display_name": "Python 3",
   "language": "python",
   "name": "python3"
  },
  "language_info": {
   "codemirror_mode": {
    "name": "ipython",
    "version": 3
   },
   "file_extension": ".py",
   "mimetype": "text/x-python",
   "name": "python",
   "nbconvert_exporter": "python",
   "pygments_lexer": "ipython3",
   "version": "3.7.1"
  }
 },
 "nbformat": 4,
 "nbformat_minor": 2
}
